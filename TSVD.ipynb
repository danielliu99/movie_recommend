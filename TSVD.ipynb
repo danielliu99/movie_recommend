{
 "cells": [
  {
   "cell_type": "code",
   "execution_count": 2,
   "metadata": {
    "scrolled": true
   },
   "outputs": [
    {
     "name": "stdout",
     "output_type": "stream",
     "text": [
      "Defaulting to user installation because normal site-packages is not writeable\n",
      "Collecting sklearn\n",
      "  Downloading sklearn-0.0.post4.tar.gz (3.6 kB)\n",
      "\u001b[31m    ERROR: Command errored out with exit status 1:\n",
      "     command: /ext3/pyspark/bin/python3.8 -c 'import io, os, sys, setuptools, tokenize; sys.argv[0] = '\"'\"'/state/partition1/job-32976442/pip-install-k2df_mv0/sklearn_6552fab0f4d54746b98e0c0369f05a73/setup.py'\"'\"'; __file__='\"'\"'/state/partition1/job-32976442/pip-install-k2df_mv0/sklearn_6552fab0f4d54746b98e0c0369f05a73/setup.py'\"'\"';f = getattr(tokenize, '\"'\"'open'\"'\"', open)(__file__) if os.path.exists(__file__) else io.StringIO('\"'\"'from setuptools import setup; setup()'\"'\"');code = f.read().replace('\"'\"'\\r\\n'\"'\"', '\"'\"'\\n'\"'\"');f.close();exec(compile(code, __file__, '\"'\"'exec'\"'\"'))' egg_info --egg-base /state/partition1/job-32976442/pip-pip-egg-info-nzxxqn1o\n",
      "         cwd: /state/partition1/job-32976442/pip-install-k2df_mv0/sklearn_6552fab0f4d54746b98e0c0369f05a73/\n",
      "    Complete output (18 lines):\n",
      "    The 'sklearn' PyPI package is deprecated, use 'scikit-learn'\n",
      "    rather than 'sklearn' for pip commands.\n",
      "    \n",
      "    Here is how to fix this error in the main use cases:\n",
      "    - use 'pip install scikit-learn' rather than 'pip install sklearn'\n",
      "    - replace 'sklearn' by 'scikit-learn' in your pip requirements files\n",
      "      (requirements.txt, setup.py, setup.cfg, Pipfile, etc ...)\n",
      "    - if the 'sklearn' package is used by one of your dependencies,\n",
      "      it would be great if you take some time to track which package uses\n",
      "      'sklearn' instead of 'scikit-learn' and report it to their issue tracker\n",
      "    - as a last resort, set the environment variable\n",
      "      SKLEARN_ALLOW_DEPRECATED_SKLEARN_PACKAGE_INSTALL=True to avoid this error\n",
      "    \n",
      "    More information is available at\n",
      "    https://github.com/scikit-learn/sklearn-pypi-package\n",
      "    \n",
      "    If the previous advice does not cover your use case, feel free to report it at\n",
      "    https://github.com/scikit-learn/sklearn-pypi-package/issues/new\n",
      "    ----------------------------------------\u001b[0m\n",
      "\u001b[33mWARNING: Discarding https://files.pythonhosted.org/packages/99/b2/165110013aa66fae6fc13918ad0e9de4801e5f1691d371bf8b63328037e6/sklearn-0.0.post4.tar.gz#sha256=0e81ec9c32d4bb418e7be8f1ec1027d174975502dc84cbc4f4564b4cba31e674 (from https://pypi.org/simple/sklearn/). Command errored out with exit status 1: python setup.py egg_info Check the logs for full command output.\u001b[0m\n",
      "  Downloading sklearn-0.0.post1.tar.gz (3.6 kB)\n",
      "\u001b[31m    ERROR: Command errored out with exit status 1:\n",
      "     command: /ext3/pyspark/bin/python3.8 -c 'import io, os, sys, setuptools, tokenize; sys.argv[0] = '\"'\"'/state/partition1/job-32976442/pip-install-k2df_mv0/sklearn_a1422fd1258a44c7add02e84afa71b9a/setup.py'\"'\"'; __file__='\"'\"'/state/partition1/job-32976442/pip-install-k2df_mv0/sklearn_a1422fd1258a44c7add02e84afa71b9a/setup.py'\"'\"';f = getattr(tokenize, '\"'\"'open'\"'\"', open)(__file__) if os.path.exists(__file__) else io.StringIO('\"'\"'from setuptools import setup; setup()'\"'\"');code = f.read().replace('\"'\"'\\r\\n'\"'\"', '\"'\"'\\n'\"'\"');f.close();exec(compile(code, __file__, '\"'\"'exec'\"'\"'))' egg_info --egg-base /state/partition1/job-32976442/pip-pip-egg-info-862d0cbw\n",
      "         cwd: /state/partition1/job-32976442/pip-install-k2df_mv0/sklearn_a1422fd1258a44c7add02e84afa71b9a/\n",
      "    Complete output (18 lines):\n",
      "    The 'sklearn' PyPI package is deprecated, use 'scikit-learn'\n",
      "    rather than 'sklearn' for pip commands.\n",
      "    \n",
      "    Here is how to fix this error in the main use cases:\n",
      "    - use 'pip install scikit-learn' rather than 'pip install sklearn'\n",
      "    - replace 'sklearn' by 'scikit-learn' in your pip requirements files\n",
      "      (requirements.txt, setup.py, setup.cfg, Pipfile, etc ...)\n",
      "    - if the 'sklearn' package is used by one of your dependencies,\n",
      "      it would be great if you take some time to track which package uses\n",
      "      'sklearn' instead of 'scikit-learn' and report it to their issue tracker\n",
      "    - as a last resort, set the environment variable\n",
      "      SKLEARN_ALLOW_DEPRECATED_SKLEARN_PACKAGE_INSTALL=True to avoid this error\n",
      "    \n",
      "    More information is available at\n",
      "    https://github.com/scikit-learn/sklearn-pypi-package\n",
      "    \n",
      "    If the previous advice does not cover your use case, feel free to report it at\n",
      "    https://github.com/scikit-learn/sklearn-pypi-package/issues/new\n",
      "    ----------------------------------------\u001b[0m\n",
      "\u001b[33mWARNING: Discarding https://files.pythonhosted.org/packages/db/1e/af4e9cded5093a92e60d4ae7149a02c7427661b2db66c8ea4d34b17864a2/sklearn-0.0.post1.tar.gz#sha256=76b9ed1623775168657b86b5fe966d45752e5c87f528de6240c38923b94147c5 (from https://pypi.org/simple/sklearn/). Command errored out with exit status 1: python setup.py egg_info Check the logs for full command output.\u001b[0m\n",
      "  Downloading sklearn-0.0.tar.gz (1.1 kB)\n",
      "Collecting scikit-learn\n",
      "  Downloading scikit_learn-1.2.2-cp38-cp38-manylinux_2_17_x86_64.manylinux2014_x86_64.whl (9.8 MB)\n",
      "\u001b[K     |████████████████████████████████| 9.8 MB 74.1 MB/s eta 0:00:01\n",
      "\u001b[?25hRequirement already satisfied: scipy>=1.3.2 in /ext3/pyspark/lib/python3.8/site-packages (from scikit-learn->sklearn) (1.7.1)\n",
      "Collecting threadpoolctl>=2.0.0\n",
      "  Using cached threadpoolctl-3.1.0-py3-none-any.whl (14 kB)\n",
      "Collecting joblib>=1.1.1\n",
      "  Using cached joblib-1.2.0-py3-none-any.whl (297 kB)\n",
      "Requirement already satisfied: numpy>=1.17.3 in /ext3/pyspark/lib/python3.8/site-packages (from scikit-learn->sklearn) (1.21.2)\n",
      "Building wheels for collected packages: sklearn\n",
      "  Building wheel for sklearn (setup.py) ... \u001b[?25ldone\n",
      "\u001b[?25h  Created wheel for sklearn: filename=sklearn-0.0-py2.py3-none-any.whl size=1309 sha256=90344993b9adf6a517073de37b3988ec8c241bb9713e0161f8b7f62197cca4ed\n",
      "  Stored in directory: /home/rl4508/.cache/pip/wheels/22/0b/40/fd3f795caaa1fb4c6cb738bc1f56100be1e57da95849bfc897\n",
      "Successfully built sklearn\n",
      "Installing collected packages: threadpoolctl, joblib, scikit-learn, sklearn\n",
      "Successfully installed joblib-1.2.0 scikit-learn-1.2.2 sklearn-0.0 threadpoolctl-3.1.0\n"
     ]
    }
   ],
   "source": [
    "!pip install sklearn"
   ]
  },
  {
   "cell_type": "code",
   "execution_count": 3,
   "metadata": {
    "colab": {
     "base_uri": "https://localhost:8080/"
    },
    "id": "5gEY7i8Pwl-r",
    "outputId": "31eea33c-af33-4b40-8214-4733a2fea941"
   },
   "outputs": [],
   "source": [
    "# load the data and necessary packages\n",
    "import numpy as np\n",
    "from sklearn.decomposition import TruncatedSVD"
   ]
  },
  {
   "cell_type": "code",
   "execution_count": 4,
   "metadata": {},
   "outputs": [
    {
     "data": {
      "text/plain": [
       "array([[0., 0., 0., ..., 0., 0., 0.],\n",
       "       [0., 0., 0., ..., 0., 0., 0.],\n",
       "       [0., 0., 0., ..., 0., 0., 0.],\n",
       "       ...,\n",
       "       [0., 0., 0., ..., 0., 0., 0.],\n",
       "       [0., 0., 0., ..., 0., 0., 0.],\n",
       "       [0., 0., 0., ..., 0., 0., 0.]], dtype=float32)"
      ]
     },
     "execution_count": 4,
     "metadata": {},
     "output_type": "execute_result"
    }
   ],
   "source": [
    "df = np.load('./output/tfidf.npy')\n",
    "df"
   ]
  },
  {
   "cell_type": "code",
   "execution_count": 5,
   "metadata": {
    "colab": {
     "base_uri": "https://localhost:8080/"
    },
    "id": "J7X_MFmj9KuT",
    "outputId": "c24fcbfd-8ed3-4d67-d858-9d8d0a791618"
   },
   "outputs": [
    {
     "name": "stdout",
     "output_type": "stream",
     "text": [
      "[[ 0.06074432 -0.0052016  -0.00243754 ... -0.01523752  0.02887304\n",
      "   0.0186392 ]\n",
      " [ 0.08157982  0.00281307  0.00698891 ... -0.01172343  0.01199866\n",
      "  -0.0175817 ]\n",
      " [ 0.07843584  0.00905212 -0.00285136 ... -0.03718764  0.02048335\n",
      "  -0.00979453]\n",
      " ...\n",
      " [ 0.09795137  0.00865541 -0.02665485 ...  0.0490053   0.00507703\n",
      "   0.02433693]\n",
      " [ 0.06492281 -0.00916073  0.00386681 ... -0.0250215   0.05534082\n",
      "  -0.01154902]\n",
      " [ 0.07966971  0.02208854 -0.01165443 ... -0.11602842 -0.04680089\n",
      "  -0.00827669]]\n"
     ]
    }
   ],
   "source": [
    "# Perform Truncated SVD\n",
    "n_components = 100  # You can change this value to adjust the number of components to keep\n",
    "svd = TruncatedSVD(n_components=n_components)\n",
    "reduced_matrix = svd.fit_transform(df)\n",
    "\n",
    "# Print the reduced matrix\n",
    "print(reduced_matrix)"
   ]
  },
  {
   "cell_type": "code",
   "execution_count": 6,
   "metadata": {
    "colab": {
     "base_uri": "https://localhost:8080/"
    },
    "id": "ofQsWwoE98WU",
    "outputId": "c25b12d5-96ac-4fb1-9aeb-5e536fbb843a"
   },
   "outputs": [
    {
     "name": "stdout",
     "output_type": "stream",
     "text": [
      "Explained variance ratio: [0.00042202 0.00175913 0.00170918 0.00164171 0.00151677 0.00148005\n",
      " 0.00139756 0.00137501 0.00134159 0.00131378 0.00123994 0.00120798\n",
      " 0.00118516 0.00117557 0.00116334 0.0011556  0.00113834 0.00112987\n",
      " 0.00111875 0.00110371 0.00110005 0.00109527 0.00107092 0.0010527\n",
      " 0.00104182 0.00102964 0.0010263  0.0010127  0.00100389 0.00099852\n",
      " 0.00098501 0.00098515 0.00097498 0.00097184 0.00096165 0.00095643\n",
      " 0.00094161 0.00093534 0.00093349 0.00092286 0.00091881 0.0009138\n",
      " 0.00091058 0.00090822 0.00089888 0.00089386 0.00089153 0.00088292\n",
      " 0.00087877 0.00087792 0.00087489 0.00087343 0.00086637 0.00085968\n",
      " 0.00085777 0.00085525 0.00084777 0.00084195 0.00083781 0.00083405\n",
      " 0.00083128 0.00082549 0.00082289 0.00081883 0.00081015 0.00080773\n",
      " 0.00080151 0.00079803 0.00079627 0.00079332 0.00078597 0.00078071\n",
      " 0.00077792 0.00077265 0.00076703 0.00075981 0.00075576 0.00075412\n",
      " 0.00074855 0.00074646 0.00074263 0.00074159 0.00073927 0.00073674\n",
      " 0.00073321 0.00072756 0.00072435 0.0007186  0.00071298 0.00071149\n",
      " 0.00070278 0.00070034 0.0006975  0.00069426 0.00069015 0.00068779\n",
      " 0.00068698 0.00068302 0.00067753 0.00067447]\n",
      "Cumulative explained variance ratio: [0.00042202 0.00218116 0.00389033 0.00553204 0.00704881 0.00852886\n",
      " 0.00992642 0.01130143 0.01264302 0.0139568  0.01519674 0.01640472\n",
      " 0.01758988 0.01876544 0.01992878 0.02108438 0.02222271 0.02335258\n",
      " 0.02447133 0.02557503 0.02667508 0.02777036 0.02884127 0.02989398\n",
      " 0.0309358  0.03196543 0.03299173 0.03400443 0.03500831 0.03600683\n",
      " 0.03699184 0.03797699 0.03895196 0.0399238  0.04088544 0.04184187\n",
      " 0.04278348 0.04371883 0.04465231 0.04557517 0.04649398 0.04740778\n",
      " 0.04831836 0.04922658 0.05012546 0.05101932 0.05191085 0.05279377\n",
      " 0.05367254 0.05455045 0.05542535 0.05629877 0.05716514 0.05802483\n",
      " 0.05888259 0.05973785 0.06058562 0.06142757 0.06226538 0.06309942\n",
      " 0.0639307  0.06475618 0.06557908 0.06639791 0.06720806 0.06801579\n",
      " 0.0688173  0.06961532 0.07041159 0.07120491 0.07199088 0.0727716\n",
      " 0.07354952 0.07432218 0.07508921 0.07584902 0.07660478 0.07735889\n",
      " 0.07810744 0.07885391 0.07959654 0.08033814 0.0810774  0.08181415\n",
      " 0.08254736 0.08327492 0.08399927 0.08471787 0.08543085 0.08614234\n",
      " 0.08684512 0.08754546 0.08824296 0.08893722 0.08962737 0.09031516\n",
      " 0.09100214 0.09168516 0.09236269 0.09303716]\n"
     ]
    }
   ],
   "source": [
    "explained_variance_ratio = svd.explained_variance_ratio_\n",
    "cumulative_explained_variance_ratio = np.cumsum(explained_variance_ratio)\n",
    "\n",
    "print(\"Explained variance ratio:\", explained_variance_ratio)\n",
    "print(\"Cumulative explained variance ratio:\", cumulative_explained_variance_ratio)"
   ]
  },
  {
   "cell_type": "code",
   "execution_count": 7,
   "metadata": {},
   "outputs": [
    {
     "data": {
      "text/plain": [
       "(8230, 100)"
      ]
     },
     "execution_count": 7,
     "metadata": {},
     "output_type": "execute_result"
    }
   ],
   "source": [
    "reduced_matrix.shape"
   ]
  },
  {
   "cell_type": "code",
   "execution_count": 8,
   "metadata": {},
   "outputs": [],
   "source": [
    "np.save('./output/reduced_tfidf', reduced_matrix)"
   ]
  },
  {
   "cell_type": "code",
   "execution_count": 9,
   "metadata": {},
   "outputs": [],
   "source": [
    "from sklearn.cluster import KMeans"
   ]
  },
  {
   "cell_type": "code",
   "execution_count": 10,
   "metadata": {},
   "outputs": [],
   "source": [
    "kmeans = KMeans(n_clusters=100, random_state=0, n_init=\"auto\").fit(reduced_matrix)"
   ]
  },
  {
   "cell_type": "code",
   "execution_count": 11,
   "metadata": {},
   "outputs": [
    {
     "data": {
      "text/plain": [
       "array([[ 0.09456255,  0.03016092,  0.01479472, ...,  0.00119049,\n",
       "        -0.01594341,  0.01136264],\n",
       "       [ 0.09168831, -0.00173356, -0.01457584, ...,  0.00246324,\n",
       "        -0.00579794,  0.0010418 ],\n",
       "       [ 0.1257546 , -0.04822284, -0.00132843, ..., -0.01758454,\n",
       "         0.00695901, -0.00567713],\n",
       "       ...,\n",
       "       [ 0.09401507,  0.00314917, -0.01740814, ...,  0.00325831,\n",
       "         0.01653922,  0.04679497],\n",
       "       [ 0.09220136,  0.00705336, -0.00241919, ...,  0.00110981,\n",
       "         0.04030855, -0.00348834],\n",
       "       [ 0.0959727 ,  0.01864267,  0.00409606, ...,  0.05694538,\n",
       "        -0.01214405, -0.02321064]], dtype=float32)"
      ]
     },
     "execution_count": 11,
     "metadata": {},
     "output_type": "execute_result"
    }
   ],
   "source": [
    "kmeans.cluster_centers_"
   ]
  },
  {
   "cell_type": "code",
   "execution_count": null,
   "metadata": {},
   "outputs": [],
   "source": []
  }
 ],
 "metadata": {
  "colab": {
   "provenance": []
  },
  "kernelspec": {
   "display_name": "Python 3 (ipykernel)",
   "language": "python",
   "name": "python3"
  },
  "language_info": {
   "codemirror_mode": {
    "name": "ipython",
    "version": 3
   },
   "file_extension": ".py",
   "mimetype": "text/x-python",
   "name": "python",
   "nbconvert_exporter": "python",
   "pygments_lexer": "ipython3",
   "version": "3.8.12"
  }
 },
 "nbformat": 4,
 "nbformat_minor": 1
}
