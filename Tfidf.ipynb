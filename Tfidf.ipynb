{
 "cells": [
  {
   "cell_type": "code",
   "execution_count": 1,
   "metadata": {
    "executionInfo": {
     "elapsed": 311,
     "status": "ok",
     "timestamp": 1682442046504,
     "user": {
      "displayName": "Ri Liu",
      "userId": "09884916397611866241"
     },
     "user_tz": 240
    },
    "id": "C6vZ4RpDKTk2"
   },
   "outputs": [],
   "source": [
    "import numpy as np "
   ]
  },
  {
   "cell_type": "code",
   "execution_count": 2,
   "metadata": {
    "colab": {
     "base_uri": "https://localhost:8080/"
    },
    "executionInfo": {
     "elapsed": 2,
     "status": "ok",
     "timestamp": 1682442046768,
     "user": {
      "displayName": "Ri Liu",
      "userId": "09884916397611866241"
     },
     "user_tz": 240
    },
    "id": "l-tSHRoDKotQ",
    "outputId": "3b09b6a9-de95-4425-c9e2-e5f979580bd5"
   },
   "outputs": [
    {
     "data": {
      "text/plain": [
       "(1000, 13880)"
      ]
     },
     "execution_count": 2,
     "metadata": {},
     "output_type": "execute_result"
    }
   ],
   "source": [
    "## read the text vector from a file\n",
    "\n",
    "txt_vector = np.load('./output/text_vector.npy')[:1000]\n",
    "txt_vector.shape"
   ]
  },
  {
   "cell_type": "markdown",
   "metadata": {
    "id": "2dvhfOGRS6K2"
   },
   "source": [
    "$$\n",
    "tfidf = tf \\cdot idf \\\\ \n",
    "tf = \\frac{f_{t', d}}{\\sum_{t \\in d} f_{t', d}}, \\\\\n",
    "where\\ f_{t', d} \\ is\\ the\\ number\\ of\\ times\\ that\\ term\\ t \\ occurs\\ in\\ an\\ overview\\ d \\\\ \n",
    "idf = log (\\frac{N}{n_t}), \\\\\n",
    "where\\ N\\ is\\ total\\ number\\ of\\ overviews\\ in\\ the\\ dataset\\ and\\ n_t\\ is\\ number\\ of\\ overviews\\ where\\ the\\ term\\ t\\ appears \n",
    "$$"
   ]
  },
  {
   "cell_type": "code",
   "execution_count": 3,
   "metadata": {
    "executionInfo": {
     "elapsed": 603,
     "status": "ok",
     "timestamp": 1682442054099,
     "user": {
      "displayName": "Ri Liu",
      "userId": "09884916397611866241"
     },
     "user_tz": 240
    },
    "id": "A7v59_wgNu0L"
   },
   "outputs": [],
   "source": [
    "def construct_tfidf(txt_vector): \n",
    "\n",
    "    ## word_num_col: word frequency of each word in all overviews (column-wise)\n",
    "    ## iterate all columns, count how many rows are not zero\n",
    "    word_num_col = [len(np.nonzero(txt_vector[:, i])[0]) for i in range(txt_vector.shape[1])]\n",
    "    word_num_col = np.array(word_num_col, dtype=np.float32)\n",
    "\n",
    "    ## word_num_row: total word number in each overview (row-wise)\n",
    "    ## iterate all rows, sum up all values in each row\n",
    "    word_num_row = [np.sum(txt_vector[i, :]) for i in range(txt_vector.shape[0])]\n",
    "    word_num_row = np.array(word_num_row, dtype=np.float32)[..., np.newaxis]\n",
    "    \n",
    "    ## idf: inverse document frequency matrix \n",
    "    ## a word is common or rare across all overviews \n",
    "    ## if a word is too common, then idf will be small to penalize the tf\n",
    "    ## plus 1 to avoid denominator being 0\n",
    "    idf = np.diag(np.log(txt_vector.shape[0] / (word_num_col + 1) ))\n",
    "\n",
    "    ## tf: term frequency matrix\n",
    "    ## the number of times that term t occurs in a movie's overview\n",
    "    tf = txt_vector / (word_num_row+1)\n",
    "\n",
    "    ## tfidf = tf * idf\n",
    "    tfidf = np.dot(tf, idf)\n",
    "\n",
    "    return tfidf"
   ]
  },
  {
   "cell_type": "code",
   "execution_count": 113,
   "metadata": {
    "executionInfo": {
     "elapsed": 134,
     "status": "ok",
     "timestamp": 1682439866102,
     "user": {
      "displayName": "Ri Liu",
      "userId": "09884916397611866241"
     },
     "user_tz": 240
    },
    "id": "KBxw-T10OrES"
   },
   "outputs": [
    {
     "name": "stdout",
     "output_type": "stream",
     "text": [
      "--> 1.8321247100830078 s\n"
     ]
    }
   ],
   "source": [
    "ts = time()\n",
    "tfidf_matrix = construct_tfidf(txt_vector)\n",
    "print('-->', time()-ts,'s')"
   ]
  },
  {
   "cell_type": "markdown",
   "metadata": {
    "id": "o4CQTKbgStdU"
   },
   "source": [
    "- Test runtime of the function"
   ]
  },
  {
   "cell_type": "code",
   "execution_count": 4,
   "metadata": {
    "colab": {
     "base_uri": "https://localhost:8080/"
    },
    "executionInfo": {
     "elapsed": 60374,
     "status": "ok",
     "timestamp": 1682442117686,
     "user": {
      "displayName": "Ri Liu",
      "userId": "09884916397611866241"
     },
     "user_tz": 240
    },
    "id": "GW_t1CzGSlcz",
    "outputId": "4c86c1cd-42be-4bf5-a7d8-2a25ea4b7acd"
   },
   "outputs": [
    {
     "name": "stdout",
     "output_type": "stream",
     "text": [
      "1.74 s ± 81.6 ms per loop (mean ± std. dev. of 7 runs, 1 loop each)\n"
     ]
    }
   ],
   "source": [
    "%timeit construct_tfidf(txt_vector)"
   ]
  },
  {
   "cell_type": "code",
   "execution_count": null,
   "metadata": {
    "id": "Z-MdqLsASn1i"
   },
   "outputs": [],
   "source": []
  },
  {
   "cell_type": "markdown",
   "metadata": {},
   "source": [
    "## multi-process"
   ]
  },
  {
   "cell_type": "code",
   "execution_count": 5,
   "metadata": {},
   "outputs": [
    {
     "name": "stdout",
     "output_type": "stream",
     "text": [
      "number of CPU cores: 48\n"
     ]
    }
   ],
   "source": [
    "from multiprocessing import cpu_count\n",
    "print(\"number of CPU cores:\", cpu_count())"
   ]
  },
  {
   "cell_type": "code",
   "execution_count": 12,
   "metadata": {},
   "outputs": [],
   "source": [
    "from functools import partial\n",
    "from multiprocessing.pool import Pool\n",
    "from functools import partial\n",
    "from time import time"
   ]
  },
  {
   "cell_type": "code",
   "execution_count": 117,
   "metadata": {},
   "outputs": [
    {
     "name": "stdout",
     "output_type": "stream",
     "text": [
      "--> 1.9582993984222412 s\n"
     ]
    }
   ],
   "source": [
    "num_procs = 8\n",
    "def tf(chunk):\n",
    "    word_num_row = [np.sum(chunk[i, :]) for i in range(chunk.shape[0])]\n",
    "    word_num_row = np.array(word_num_row, dtype=np.float32)[..., np.newaxis]\n",
    "    return chunk / (word_num_row + 1)\n",
    "\n",
    "def idf(chunk):\n",
    "    word_num_col = [len(np.nonzero(chunk[:, i])[0]) for i in range(chunk.shape[1])]\n",
    "    word_num_col = np.array(word_num_col, dtype=np.float32)\n",
    "    return word_num_col\n",
    "\n",
    "ts = time()\n",
    "\n",
    "all_steps = [i for i in range(0, txt_vector.shape[0]+1, txt_vector.shape[0]//num_procs)]\n",
    "chunks = [txt_vector[all_steps[i] : all_steps[i+1]] for i in range(len(all_steps)-1)]  \n",
    "\n",
    "with Pool(4) as p:\n",
    "     results = p.map(tf, chunks)\n",
    "tf_mat = np.concatenate(results)\n",
    "\n",
    "all_steps = [i for i in range(0, txt_vector.shape[1]+1, txt_vector.shape[1]//num_procs)]\n",
    "chunks = [txt_vector[:, all_steps[i] : all_steps[i+1]] for i in range(len(all_steps)-1)]  \n",
    "\n",
    "ts = time()\n",
    "with Pool(num_procs) as p:\n",
    "     results = p.map(idf, chunks)\n",
    "idf_mat = np.diag(np.log(txt_vector.shape[0] / (np.concatenate(results) + 1) ))\n",
    "\n",
    "tfidf = np.dot(tf_mat, idf_mat)\n",
    "\n",
    "print('-->', time()-ts,'s')"
   ]
  },
  {
   "cell_type": "code",
   "execution_count": null,
   "metadata": {},
   "outputs": [],
   "source": []
  }
 ],
 "metadata": {
  "colab": {
   "authorship_tag": "ABX9TyMmWuezJUJWRQRszLyla7Jm",
   "mount_file_id": "1EQim8bAxNO_QVzUowr9lUrVsXyP9kF8-",
   "provenance": []
  },
  "kernelspec": {
   "display_name": "Python 3",
   "language": "python",
   "name": "python3"
  },
  "language_info": {
   "codemirror_mode": {
    "name": "ipython",
    "version": 3
   },
   "file_extension": ".py",
   "mimetype": "text/x-python",
   "name": "python",
   "nbconvert_exporter": "python",
   "pygments_lexer": "ipython3",
   "version": "3.8.6"
  }
 },
 "nbformat": 4,
 "nbformat_minor": 4
}
